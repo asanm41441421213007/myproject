{
  "nbformat": 4,
  "nbformat_minor": 0,
  "metadata": {
    "colab": {
      "provenance": [],
      "authorship_tag": "ABX9TyMIkAoUpr09qfoutO5fg0kC",
      "include_colab_link": true
    },
    "kernelspec": {
      "name": "python3",
      "display_name": "Python 3"
    },
    "language_info": {
      "name": "python"
    }
  },
  "cells": [
    {
      "cell_type": "markdown",
      "metadata": {
        "id": "view-in-github",
        "colab_type": "text"
      },
      "source": [
        "<a href=\"https://colab.research.google.com/github/hyrah-8/port/blob/main/ex6_larAndSmall.ipynb\" target=\"_parent\"><img src=\"https://colab.research.google.com/assets/colab-badge.svg\" alt=\"Open In Colab\"/></a>"
      ]
    },
    {
      "cell_type": "code",
      "execution_count": null,
      "metadata": {
        "id": "VlJ3m8088akh"
      },
      "outputs": [],
      "source": [
        "nlist=[]\n",
        "n=int(input(\"enter the total number of list element:\"))\n",
        " for i n range(1,n+1):\n",
        "  value=int(input(\"enter the value of %d element:\"%1))\n",
        "  nlist.append(value)\n",
        "  nlist.sort()\n",
        "  print(nlist)\n",
        "print (\"the smallest element in this listis:\"nlist[0])\n",
        "print (\"the largest element in this listis:\"nlist[n-1])\n"
      ]
    }
  ]
}